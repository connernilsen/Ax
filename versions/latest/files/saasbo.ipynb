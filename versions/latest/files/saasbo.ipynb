{
 "cells": [
  {
   "cell_type": "markdown",
   "id": "568aca5e",
   "metadata": {
    "originalKey": "1f779465-f9cc-4b17-9b5a-5960cf602273",
    "papermill": {
     "duration": 0.003423,
     "end_time": "2024-03-11T05:35:38.575590",
     "exception": false,
     "start_time": "2024-03-11T05:35:38.572167",
     "status": "completed"
    },
    "tags": []
   },
   "source": [
    "# High-Dimensional Bayesian Optimization with SAASBO\n",
    "\n",
    "This tutorial shows how to use the Sparse Axis-Aligned Subspace Bayesian Optimization (SAASBO) method for high-dimensional Bayesian optimization [1]. SAASBO places strong priors on the inverse lengthscales to avoid overfitting in high-dimensional spaces. Specifically, SAASBO uses a hierarchical sparsity prior consisting of a global shrinkage parameter $\\tau \\sim \\mathcal{HC}(\\beta)$ and inverse lengthscales $\\rho_d \\sim \\mathcal{HC}(\\tau)$ for $d=1, ..., D$, where $\\mathcal{HC}$ is the half-Cauchy distribution. While half-Cauchy priors favor values near zero they also have heavy tails, which allows the inverse lengthscales of the most important parameters to escape zero. To do inference in the SAAS model we use Hamiltonian Monte Carlo (HMC) as we found that to outperform MAP inference.\n",
    "\n",
    "We find that SAASBO performs well on problems with hundreds of dimensions. As we rely on HMC and in particular the No-U-Turn-Sampler (NUTS) for inference, the overhead of SAASBO scales cubically with the number of datapoints. Depending on the problem, using more than $100$ evaluations may not be feasible as SAASBO is designed for problems with a limited evaluation budget.\n",
    "\n",
    "[1] D. Eriksson, M. Jankowiak. High-Dimensional Bayesian Optimization with Sparse Axis-Aligned Subspaces. Proceedings of the Thirty-Seventh Conference on Uncertainty in Artificial Intelligence, 2021."
   ]
  },
  {
   "cell_type": "code",
   "execution_count": 1,
   "id": "c4b10563",
   "metadata": {
    "execution": {
     "iopub.execute_input": "2024-03-11T05:35:38.582160Z",
     "iopub.status.busy": "2024-03-11T05:35:38.581898Z",
     "iopub.status.idle": "2024-03-11T05:35:41.671032Z",
     "shell.execute_reply": "2024-03-11T05:35:41.670375Z"
    },
    "originalKey": "36a4c036-4075-4b15-87b2-a399c318f7b6",
    "papermill": {
     "duration": 3.09437,
     "end_time": "2024-03-11T05:35:41.672765",
     "exception": false,
     "start_time": "2024-03-11T05:35:38.578395",
     "status": "completed"
    },
    "tags": []
   },
   "outputs": [],
   "source": [
    "import os\n",
    "\n",
    "import matplotlib\n",
    "import matplotlib.pyplot as plt\n",
    "import numpy as np\n",
    "import torch\n",
    "\n",
    "from ax import Data, Experiment, ParameterType, RangeParameter, SearchSpace\n",
    "from ax.core.metric import Metric\n",
    "from ax.core.objective import Objective\n",
    "from ax.core.optimization_config import OptimizationConfig\n",
    "from ax.metrics.branin import BraninMetric\n",
    "from ax.modelbridge.cross_validation import cross_validate\n",
    "from ax.modelbridge.registry import Models\n",
    "from ax.models.torch.botorch_modular.surrogate import Surrogate\n",
    "from ax.runners.synthetic import SyntheticRunner\n",
    "from botorch.models.fully_bayesian import SaasFullyBayesianSingleTaskGP"
   ]
  },
  {
   "cell_type": "code",
   "execution_count": 2,
   "id": "6f14eb68",
   "metadata": {
    "execution": {
     "iopub.execute_input": "2024-03-11T05:35:41.679810Z",
     "iopub.status.busy": "2024-03-11T05:35:41.679276Z",
     "iopub.status.idle": "2024-03-11T05:35:41.682585Z",
     "shell.execute_reply": "2024-03-11T05:35:41.681961Z"
    },
    "papermill": {
     "duration": 0.008186,
     "end_time": "2024-03-11T05:35:41.684000",
     "exception": false,
     "start_time": "2024-03-11T05:35:41.675814",
     "status": "completed"
    },
    "tags": []
   },
   "outputs": [],
   "source": [
    "SMOKE_TEST = os.environ.get(\"SMOKE_TEST\")"
   ]
  },
  {
   "cell_type": "code",
   "execution_count": 3,
   "id": "c5976aa9",
   "metadata": {
    "execution": {
     "iopub.execute_input": "2024-03-11T05:35:41.690428Z",
     "iopub.status.busy": "2024-03-11T05:35:41.690073Z",
     "iopub.status.idle": "2024-03-11T05:35:41.694858Z",
     "shell.execute_reply": "2024-03-11T05:35:41.694211Z"
    },
    "originalKey": "08bf2c1e-5909-4bde-8829-0fb0d0a29a25",
    "papermill": {
     "duration": 0.009428,
     "end_time": "2024-03-11T05:35:41.696231",
     "exception": false,
     "start_time": "2024-03-11T05:35:41.686803",
     "status": "completed"
    },
    "tags": []
   },
   "outputs": [],
   "source": [
    "torch.manual_seed(12345)  # To always get the same Sobol points\n",
    "tkwargs = {\n",
    "    \"dtype\": torch.double,\n",
    "    \"device\": torch.device(\"cuda\" if torch.cuda.is_available() else \"cpu\"),\n",
    "}"
   ]
  },
  {
   "cell_type": "markdown",
   "id": "98d34e2b",
   "metadata": {
    "originalKey": "2f9bd4f6-87d6-42d9-b575-f92cf94de7b0",
    "papermill": {
     "duration": 0.002639,
     "end_time": "2024-03-11T05:35:41.701612",
     "exception": false,
     "start_time": "2024-03-11T05:35:41.698973",
     "status": "completed"
    },
    "tags": []
   },
   "source": [
    "## Setup search space and metric\n",
    "In this simple experiment we use the Branin function embedded in a 30-dimensional space. Additional resources:\n",
    "- To set up a custom metric for your problem, refer to the dedicated section of the Developer API tutorial: https://ax.dev/tutorials/gpei_hartmann_developer.html#8.-Defining-custom-metrics.\n",
    "- To avoid needing to setup up custom metrics by Ax Service API: https://ax.dev/tutorials/gpei_hartmann_service.html."
   ]
  },
  {
   "cell_type": "code",
   "execution_count": 4,
   "id": "38fa054b",
   "metadata": {
    "execution": {
     "iopub.execute_input": "2024-03-11T05:35:41.708036Z",
     "iopub.status.busy": "2024-03-11T05:35:41.707636Z",
     "iopub.status.idle": "2024-03-11T05:35:41.712786Z",
     "shell.execute_reply": "2024-03-11T05:35:41.712161Z"
    },
    "originalKey": "7697c80d-ab0c-4884-b4c7-c75d24a07e1a",
    "papermill": {
     "duration": 0.009928,
     "end_time": "2024-03-11T05:35:41.714195",
     "exception": false,
     "start_time": "2024-03-11T05:35:41.704267",
     "status": "completed"
    },
    "tags": []
   },
   "outputs": [],
   "source": [
    "search_space = SearchSpace(\n",
    "    parameters=[\n",
    "        RangeParameter(\n",
    "            name=f\"x{i}\", parameter_type=ParameterType.FLOAT, lower=-5.0, upper=10.0\n",
    "        )\n",
    "        for i in range(25)\n",
    "    ]\n",
    "    + [\n",
    "        RangeParameter(\n",
    "            name=f\"x{i + 25}\",\n",
    "            parameter_type=ParameterType.FLOAT,\n",
    "            lower=0.0,\n",
    "            upper=15.0,\n",
    "        )\n",
    "        for i in range(25)\n",
    "    ]\n",
    ")\n",
    "\n",
    "optimization_config = OptimizationConfig(\n",
    "    objective=Objective(\n",
    "        metric=BraninMetric(\n",
    "            name=\"objective\",\n",
    "            param_names=[\"x19\", \"x34\"],\n",
    "             # Set noise_sd=None if you want to learn the noise, set to 0.0 for no noise\n",
    "            noise_sd=1e-4, \n",
    "        ),\n",
    "        minimize=True,\n",
    "    )\n",
    ")"
   ]
  },
  {
   "cell_type": "markdown",
   "id": "0046c244",
   "metadata": {
    "originalKey": "379571df-a141-48f7-84de-f75bc6e8e760",
    "papermill": {
     "duration": 0.002651,
     "end_time": "2024-03-11T05:35:41.721124",
     "exception": false,
     "start_time": "2024-03-11T05:35:41.718473",
     "status": "completed"
    },
    "tags": []
   },
   "source": [
    "## Run benchmark"
   ]
  },
  {
   "cell_type": "code",
   "execution_count": 5,
   "id": "33bc36fa",
   "metadata": {
    "execution": {
     "iopub.execute_input": "2024-03-11T05:35:41.727575Z",
     "iopub.status.busy": "2024-03-11T05:35:41.727146Z",
     "iopub.status.idle": "2024-03-11T05:35:41.731085Z",
     "shell.execute_reply": "2024-03-11T05:35:41.730440Z"
    },
    "papermill": {
     "duration": 0.008649,
     "end_time": "2024-03-11T05:35:41.732477",
     "exception": false,
     "start_time": "2024-03-11T05:35:41.723828",
     "status": "completed"
    },
    "tags": []
   },
   "outputs": [
    {
     "name": "stdout",
     "output_type": "stream",
     "text": [
      "Doing 40 evaluations\n"
     ]
    }
   ],
   "source": [
    "N_INIT = 10\n",
    "BATCH_SIZE = 3\n",
    "N_BATCHES = 1 if SMOKE_TEST else 10\n",
    "\n",
    "print(f\"Doing {N_INIT + N_BATCHES * BATCH_SIZE} evaluations\")"
   ]
  },
  {
   "cell_type": "code",
   "execution_count": 6,
   "id": "5f58aa1d",
   "metadata": {
    "execution": {
     "iopub.execute_input": "2024-03-11T05:35:41.739031Z",
     "iopub.status.busy": "2024-03-11T05:35:41.738684Z",
     "iopub.status.idle": "2024-03-11T05:35:41.741939Z",
     "shell.execute_reply": "2024-03-11T05:35:41.741295Z"
    },
    "papermill": {
     "duration": 0.007985,
     "end_time": "2024-03-11T05:35:41.743291",
     "exception": false,
     "start_time": "2024-03-11T05:35:41.735306",
     "status": "completed"
    },
    "tags": []
   },
   "outputs": [],
   "source": [
    "# Experiment\n",
    "experiment = Experiment(\n",
    "    name=\"saasbo_experiment\",\n",
    "    search_space=search_space,\n",
    "    optimization_config=optimization_config,\n",
    "    runner=SyntheticRunner(),\n",
    ")"
   ]
  },
  {
   "cell_type": "code",
   "execution_count": 7,
   "id": "6d76b9c6",
   "metadata": {
    "execution": {
     "iopub.execute_input": "2024-03-11T05:35:41.750138Z",
     "iopub.status.busy": "2024-03-11T05:35:41.749741Z",
     "iopub.status.idle": "2024-03-11T05:35:41.775217Z",
     "shell.execute_reply": "2024-03-11T05:35:41.774730Z"
    },
    "papermill": {
     "duration": 0.030258,
     "end_time": "2024-03-11T05:35:41.776520",
     "exception": false,
     "start_time": "2024-03-11T05:35:41.746262",
     "status": "completed"
    },
    "tags": []
   },
   "outputs": [],
   "source": [
    "# Initial Sobol points\n",
    "sobol = Models.SOBOL(search_space=experiment.search_space)\n",
    "for _ in range(N_INIT):\n",
    "    experiment.new_trial(sobol.gen(1)).run()"
   ]
  },
  {
   "cell_type": "code",
   "execution_count": 8,
   "id": "6193992b",
   "metadata": {
    "execution": {
     "iopub.execute_input": "2024-03-11T05:35:41.783208Z",
     "iopub.status.busy": "2024-03-11T05:35:41.783002Z",
     "iopub.status.idle": "2024-03-11T05:58:17.130041Z",
     "shell.execute_reply": "2024-03-11T05:58:17.129371Z"
    },
    "originalKey": "bdfeea50-c4e6-4ff1-91ae-c8f6c3160d7c",
    "papermill": {
     "duration": 1355.354604,
     "end_time": "2024-03-11T05:58:17.134118",
     "exception": false,
     "start_time": "2024-03-11T05:35:41.779514",
     "status": "completed"
    },
    "tags": []
   },
   "outputs": [
    {
     "name": "stdout",
     "output_type": "stream",
     "text": [
      "Iteration: 0, Best in iteration 10.961, Best so far: 3.963\n"
     ]
    },
    {
     "name": "stdout",
     "output_type": "stream",
     "text": [
      "Iteration: 1, Best in iteration 10.961, Best so far: 3.963\n"
     ]
    },
    {
     "name": "stdout",
     "output_type": "stream",
     "text": [
      "Iteration: 2, Best in iteration 0.952, Best so far: 0.952\n"
     ]
    },
    {
     "name": "stdout",
     "output_type": "stream",
     "text": [
      "Iteration: 3, Best in iteration 4.488, Best so far: 0.952\n"
     ]
    },
    {
     "name": "stdout",
     "output_type": "stream",
     "text": [
      "Iteration: 4, Best in iteration 8.630, Best so far: 0.952\n"
     ]
    },
    {
     "name": "stdout",
     "output_type": "stream",
     "text": [
      "Iteration: 5, Best in iteration 5.663, Best so far: 0.952\n"
     ]
    },
    {
     "name": "stdout",
     "output_type": "stream",
     "text": [
      "Iteration: 6, Best in iteration 145.872, Best so far: 0.952\n"
     ]
    },
    {
     "name": "stdout",
     "output_type": "stream",
     "text": [
      "Iteration: 7, Best in iteration 0.408, Best so far: 0.407\n"
     ]
    },
    {
     "name": "stdout",
     "output_type": "stream",
     "text": [
      "Iteration: 8, Best in iteration 0.647, Best so far: 0.407\n"
     ]
    },
    {
     "name": "stdout",
     "output_type": "stream",
     "text": [
      "Iteration: 9, Best in iteration 0.411, Best so far: 0.407\n",
      "CPU times: user 44min 55s, sys: 14.8 s, total: 45min 10s\n",
      "Wall time: 22min 35s\n"
     ]
    }
   ],
   "source": [
    "%%time\n",
    "# Run SAASBO\n",
    "data = experiment.fetch_data()\n",
    "for i in range(N_BATCHES):\n",
    "    model = Models.SAASBO(experiment=experiment, data=data)\n",
    "    generator_run = model.gen(BATCH_SIZE)\n",
    "    trial = experiment.new_batch_trial(generator_run=generator_run)\n",
    "    trial.run()\n",
    "    data = Data.from_multiple_data([data, trial.fetch_data()])\n",
    "\n",
    "    new_value = trial.fetch_data().df[\"mean\"].min()\n",
    "    print(\n",
    "        f\"Iteration: {i}, Best in iteration {new_value:.3f}, Best so far: {data.df['mean'].min():.3f}\"\n",
    "    )"
   ]
  },
  {
   "cell_type": "markdown",
   "id": "32c07541",
   "metadata": {
    "papermill": {
     "duration": 0.003272,
     "end_time": "2024-03-11T05:58:17.140884",
     "exception": false,
     "start_time": "2024-03-11T05:58:17.137612",
     "status": "completed"
    },
    "tags": []
   },
   "source": [
    "## Plot results\n",
    "SAASBO is able to find a solution close to the global optimal value of 0.398"
   ]
  },
  {
   "cell_type": "code",
   "execution_count": 9,
   "id": "ef0e52de",
   "metadata": {
    "execution": {
     "iopub.execute_input": "2024-03-11T05:58:17.148507Z",
     "iopub.status.busy": "2024-03-11T05:58:17.148285Z",
     "iopub.status.idle": "2024-03-11T05:58:17.481938Z",
     "shell.execute_reply": "2024-03-11T05:58:17.481251Z"
    },
    "originalKey": "5a9b9706-2653-4320-96f3-4bc9fe88bceb",
    "papermill": {
     "duration": 0.339059,
     "end_time": "2024-03-11T05:58:17.483277",
     "exception": false,
     "start_time": "2024-03-11T05:58:17.144218",
     "status": "completed"
    },
    "tags": []
   },
   "outputs": [
    {
     "data": {
      "image/png": "[encoded data removed]",
      "text/plain": [
       "<Figure size 800x600 with 1 Axes>"
      ]
     },
     "metadata": {},
     "output_type": "display_data"
    }
   ],
   "source": [
    "%matplotlib inline\n",
    "matplotlib.rcParams.update({\"font.size\": 16})\n",
    "\n",
    "\n",
    "fig, ax = plt.subplots(figsize=(8, 6))\n",
    "res_saasbo = data.df[\"mean\"]\n",
    "ax.plot(np.minimum.accumulate(res_saasbo), color=\"b\", label=\"SAASBO\")\n",
    "ax.plot([0, len(res_saasbo)], [0.398, 0.398], \"--\", c=\"g\", lw=3, label=\"Optimal value\")\n",
    "ax.grid(True)\n",
    "ax.set_title(\"Branin, D=50\", fontsize=20)\n",
    "ax.set_xlabel(\"Number of evaluations\", fontsize=20)\n",
    "ax.set_xlim([0, len(res_saasbo)])\n",
    "ax.set_ylabel(\"Best value found\", fontsize=20)\n",
    "ax.set_ylim([0, 8])\n",
    "ax.legend(fontsize=18)\n",
    "plt.show()"
   ]
  },
  {
   "cell_type": "markdown",
   "id": "1451f88d",
   "metadata": {
    "papermill": {
     "duration": 0.003781,
     "end_time": "2024-03-11T05:58:17.491303",
     "exception": false,
     "start_time": "2024-03-11T05:58:17.487522",
     "status": "completed"
    },
    "tags": []
   },
   "source": [
    "## SAAS model fit"
   ]
  },
  {
   "cell_type": "markdown",
   "id": "9d562b62",
   "metadata": {
    "papermill": {
     "duration": 0.003784,
     "end_time": "2024-03-11T05:58:17.498872",
     "exception": false,
     "start_time": "2024-03-11T05:58:17.495088",
     "status": "completed"
    },
    "tags": []
   },
   "source": [
    "We can also instantiate a SAAS model via `Models.BOTORCH_MODULAR` by specifying a `SaasFullyBayesianSingleTaskGP` as the `botorch_model_class`. This also gives us the option to change several Pyro-specific parameters such as `num_samples` and `warmup_steps`."
   ]
  },
  {
   "cell_type": "code",
   "execution_count": 10,
   "id": "b6ca992a",
   "metadata": {
    "execution": {
     "iopub.execute_input": "2024-03-11T05:58:17.507598Z",
     "iopub.status.busy": "2024-03-11T05:58:17.507168Z",
     "iopub.status.idle": "2024-03-11T05:59:49.622662Z",
     "shell.execute_reply": "2024-03-11T05:59:49.622036Z"
    },
    "papermill": {
     "duration": 92.12188,
     "end_time": "2024-03-11T05:59:49.624510",
     "exception": false,
     "start_time": "2024-03-11T05:58:17.502630",
     "status": "completed"
    },
    "tags": []
   },
   "outputs": [],
   "source": [
    "model = Models.BOTORCH_MODULAR(\n",
    "    experiment=experiment,\n",
    "    data=data,\n",
    "    surrogate=Surrogate(\n",
    "        botorch_model_class=SaasFullyBayesianSingleTaskGP,\n",
    "        mll_options={\n",
    "            \"num_samples\": 256,  # Increasing this may result in better model fits\n",
    "            \"warmup_steps\": 512,  # Increasing this may result in better model fits\n",
    "        },\n",
    "    )\n",
    ")"
   ]
  },
  {
   "cell_type": "markdown",
   "id": "47b0361b",
   "metadata": {
    "papermill": {
     "duration": 0.003805,
     "end_time": "2024-03-11T05:59:49.633504",
     "exception": false,
     "start_time": "2024-03-11T05:59:49.629699",
     "status": "completed"
    },
    "tags": []
   },
   "source": [
    "### Cross-validation plot \n",
    "We have tools for cross-validation in Ax, but plotly doesn't render on Github so we make a simple plot using Matplotlib here. To use the built-in cross-validation functionality, you can do something like this:\n",
    "\n",
    "```\n",
    "from ax.modelbridge.cross_validation import cross_validate, compute_diagnostics\n",
    "from ax.plot.diagnostic import interact_cross_validation\n",
    "from ax.utils.notebook.plotting import render, init_notebook_plotting\n",
    "\n",
    "\n",
    "cv = cross_validate(model)\n",
    "diagnostics = compute_diagnostics(cv)\n",
    "init_notebook_plotting()\n",
    "plotconfig = interact_cross_validation(cv)\n",
    "render(plotconfig)\n",
    "```"
   ]
  },
  {
   "cell_type": "code",
   "execution_count": 11,
   "id": "dc1944ae",
   "metadata": {
    "execution": {
     "iopub.execute_input": "2024-03-11T05:59:49.642353Z",
     "iopub.status.busy": "2024-03-11T05:59:49.641977Z",
     "iopub.status.idle": "2024-03-11T05:59:50.256862Z",
     "shell.execute_reply": "2024-03-11T05:59:50.256257Z"
    },
    "papermill": {
     "duration": 0.620877,
     "end_time": "2024-03-11T05:59:50.258246",
     "exception": false,
     "start_time": "2024-03-11T05:59:49.637369",
     "status": "completed"
    },
    "tags": []
   },
   "outputs": [
    {
     "data": {
      "image/png": "[encoded data removed]",
      "text/plain": [
       "<Figure size 600x600 with 1 Axes>"
      ]
     },
     "metadata": {},
     "output_type": "display_data"
    }
   ],
   "source": [
    "# Cross-validate model\n",
    "cv = cross_validate(model)\n",
    "y_true = np.stack([cv_.observed.data.means for cv_ in cv]).ravel()\n",
    "y_saas_mean = np.stack([cv_.predicted.means for cv_ in cv]).ravel()\n",
    "y_saas_std = np.stack(\n",
    "    [np.sqrt(np.diag(cv_.predicted.covariance)) for cv_ in cv]\n",
    ").ravel()\n",
    "\n",
    "# Cross-validation plot\n",
    "fig, ax = plt.subplots(1, 1, figsize=(6, 6))\n",
    "min_val, max_val = -5, 120\n",
    "ax.plot([min_val, max_val], [min_val, max_val], \"b--\", lw=2)\n",
    "markers, caps, bars = ax.errorbar(\n",
    "    y_true,\n",
    "    y_saas_mean,\n",
    "    yerr=1.96 * y_saas_std,\n",
    "    fmt=\".\",\n",
    "    capsize=4,\n",
    "    elinewidth=2.0,\n",
    "    ms=14,\n",
    "    c=\"k\",\n",
    "    ecolor=\"gray\",\n",
    ")\n",
    "[bar.set_alpha(0.8) for bar in bars]\n",
    "[cap.set_alpha(0.8) for cap in caps]\n",
    "ax.set_xlim([min_val, max_val])\n",
    "ax.set_ylim([min_val, max_val])\n",
    "ax.set_xlabel(\"True value\", fontsize=20)\n",
    "ax.set_ylabel(\"Predicted value\", fontsize=20)\n",
    "ax.grid(True)"
   ]
  },
  {
   "cell_type": "markdown",
   "id": "67f410b7",
   "metadata": {
    "papermill": {
     "duration": 0.004484,
     "end_time": "2024-03-11T05:59:50.267436",
     "exception": false,
     "start_time": "2024-03-11T05:59:50.262952",
     "status": "completed"
    },
    "tags": []
   },
   "source": [
    "### Lengthscales\n",
    "As SAASBO places strong priors on the inverse lengthscales, we only expect parameters 19 and 44 to be identified as important by the model since the other parameters have no effect. We can confirm that this is the case below as the lengthscales of parameters 19 and 44 are close to 1 with all other lengthscales being larger than 1000.  "
   ]
  },
  {
   "cell_type": "code",
   "execution_count": 12,
   "id": "db0629a8",
   "metadata": {
    "execution": {
     "iopub.execute_input": "2024-03-11T05:59:50.277329Z",
     "iopub.status.busy": "2024-03-11T05:59:50.276789Z",
     "iopub.status.idle": "2024-03-11T05:59:50.282017Z",
     "shell.execute_reply": "2024-03-11T05:59:50.281385Z"
    },
    "papermill": {
     "duration": 0.011665,
     "end_time": "2024-03-11T05:59:50.283393",
     "exception": false,
     "start_time": "2024-03-11T05:59:50.271728",
     "status": "completed"
    },
    "tags": []
   },
   "outputs": [
    {
     "name": "stdout",
     "output_type": "stream",
     "text": [
      "Parameter 19) Median lengthscale = 5.22e-01\n",
      "Parameter 34) Median lengthscale = 1.73e+00\n",
      "Parameter 38) Median lengthscale = 8.95e+02\n",
      "Parameter  6) Median lengthscale = 9.03e+02\n",
      "Parameter 28) Median lengthscale = 9.56e+02\n",
      "Parameter  3) Median lengthscale = 1.01e+03\n",
      "Parameter 21) Median lengthscale = 1.04e+03\n",
      "Parameter 20) Median lengthscale = 1.06e+03\n",
      "Parameter 22) Median lengthscale = 1.07e+03\n",
      "Parameter 35) Median lengthscale = 1.07e+03\n"
     ]
    }
   ],
   "source": [
    "median_lengthscales = (\n",
    "    model.model.surrogate.model\n",
    "    .covar_module.base_kernel.lengthscale.squeeze()\n",
    "    .median(axis=0)\n",
    "    .values\n",
    ")\n",
    "for i in median_lengthscales.argsort()[:10]:\n",
    "    print(f\"Parameter {i:2}) Median lengthscale = {median_lengthscales[i]:.2e}\")"
   ]
  },
  {
   "cell_type": "code",
   "execution_count": null,
   "id": "649c1f29",
   "metadata": {
    "papermill": {
     "duration": 0.004305,
     "end_time": "2024-03-11T05:59:50.292131",
     "exception": false,
     "start_time": "2024-03-11T05:59:50.287826",
     "status": "completed"
    },
    "tags": []
   },
   "outputs": [],
   "source": []
  }
 ],
 "metadata": {
  "kernelspec": {
   "display_name": "Python 3 (ipykernel)",
   "language": "python",
   "name": "python3"
  },
  "language_info": {
   "codemirror_mode": {
    "name": "ipython",
    "version": 3
   },
   "file_extension": ".py",
   "mimetype": "text/x-python",
   "name": "python",
   "nbconvert_exporter": "python",
   "pygments_lexer": "ipython3",
   "version": "3.9.18"
  },
  "papermill": {
   "default_parameters": {},
   "duration": 1453.08691,
   "end_time": "2024-03-11T05:59:51.003507",
   "environment_variables": {},
   "exception": null,
   "input_path": "/tmp/tmp.pMoYns2ZHS/Ax-main/tutorials/saasbo.ipynb",
   "output_path": "/tmp/tmp.pMoYns2ZHS/Ax-main/tutorials/saasbo.ipynb",
   "parameters": {},
   "start_time": "2024-03-11T05:35:37.916597",
   "version": "2.5.0"
  }
 },
 "nbformat": 4,
 "nbformat_minor": 5
}
